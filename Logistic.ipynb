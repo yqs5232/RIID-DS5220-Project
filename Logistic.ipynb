{
 "cells": [
  {
   "cell_type": "code",
   "execution_count": 1,
   "metadata": {
    "ExecuteTime": {
     "end_time": "2020-12-17T22:20:52.822294Z",
     "start_time": "2020-12-17T22:20:50.877454Z"
    }
   },
   "outputs": [],
   "source": [
    "import numpy as np\n",
    "import pandas as pd \n",
    "import random \n",
    "import dask.dataframe as dd\n",
    "import seaborn as sns\n",
    "import matplotlib.pyplot as plt\n",
    "from sklearn.linear_model import LogisticRegression\n",
    "import gc "
   ]
  },
  {
   "cell_type": "code",
   "execution_count": 2,
   "metadata": {
    "ExecuteTime": {
     "end_time": "2020-12-17T22:22:39.243923Z",
     "start_time": "2020-12-17T22:20:52.838336Z"
    }
   },
   "outputs": [],
   "source": [
    "# load the data\n",
    "train = pd.read_csv('train.csv')\n"
   ]
  },
  {
   "cell_type": "code",
   "execution_count": 3,
   "metadata": {
    "ExecuteTime": {
     "end_time": "2020-12-17T22:23:16.242532Z",
     "start_time": "2020-12-17T22:22:39.344789Z"
    }
   },
   "outputs": [],
   "source": [
    "train = train[train['answered_correctly'] != -1]\n",
    "subset_id = train.groupby('user_id').agg({'answered_correctly':'count'}).reset_index().sample(frac=0.01, random_state=77)"
   ]
  },
  {
   "cell_type": "code",
   "execution_count": 4,
   "metadata": {
    "ExecuteTime": {
     "end_time": "2020-12-17T22:23:27.342705Z",
     "start_time": "2020-12-17T22:23:16.311449Z"
    }
   },
   "outputs": [],
   "source": [
    "train = train[train['user_id'].isin(subset_id['user_id'])]\n"
   ]
  },
  {
   "cell_type": "code",
   "execution_count": 5,
   "metadata": {
    "ExecuteTime": {
     "end_time": "2020-12-17T22:23:27.762566Z",
     "start_time": "2020-12-17T22:23:27.396312Z"
    }
   },
   "outputs": [
    {
     "data": {
      "text/plain": [
       "120"
      ]
     },
     "execution_count": 5,
     "metadata": {},
     "output_type": "execute_result"
    }
   ],
   "source": [
    "del train['timestamp']  \n",
    "del train['row_id']\n",
    "del train['task_container_id']\n",
    "del train['content_type_id']\n",
    "gc.collect()"
   ]
  },
  {
   "cell_type": "code",
   "execution_count": 6,
   "metadata": {
    "ExecuteTime": {
     "end_time": "2020-12-17T22:23:28.454691Z",
     "start_time": "2020-12-17T22:23:27.808625Z"
    }
   },
   "outputs": [],
   "source": [
    "questions = pd.read_csv('questions.csv')\n",
    "train_questions=train.merge(questions,left_on='content_id',right_on='question_id',how='left')\n",
    "del questions\n",
    "train_questions_gp=train_questions.groupby('question_id').agg({'answered_correctly':['mean','count','std']}).reset_index()\n",
    "train_questions_gp.columns=['question_id','q_correct','q_count','q_std']\n",
    "train_questions_gp.q_std = train_questions_gp.q_std.fillna(train_questions_gp.q_std.mean())\n",
    "del train_questions\n",
    "gc.collect()\n",
    "train=train.merge(train_questions_gp,left_on='content_id',right_on='question_id',how='left')\n",
    "del train_questions_gp"
   ]
  },
  {
   "cell_type": "code",
   "execution_count": 7,
   "metadata": {
    "ExecuteTime": {
     "end_time": "2020-12-17T22:23:28.996599Z",
     "start_time": "2020-12-17T22:23:28.492531Z"
    }
   },
   "outputs": [
    {
     "data": {
      "text/plain": [
       "0"
      ]
     },
     "execution_count": 7,
     "metadata": {},
     "output_type": "execute_result"
    }
   ],
   "source": [
    "user_flags = train.groupby('user_id').agg({'answered_correctly':['mean','count','min','max','std']}).reset_index()\n",
    "user_flags.columns=['user_id','user_answer_mean','user_answer_count','user_min','user_max','user_std']\n",
    "user_flags.user_std = user_flags.user_std.fillna(user_flags.user_std.mean())\n",
    "user_flags.isnull().sum()\n",
    "gc.collect()\n",
    "train=train.merge(user_flags,on=['user_id'],how='left')\n",
    "del user_flags\n",
    "gc.collect()"
   ]
  },
  {
   "cell_type": "code",
   "execution_count": 8,
   "metadata": {
    "ExecuteTime": {
     "end_time": "2020-12-17T22:23:29.099177Z",
     "start_time": "2020-12-17T22:23:29.061041Z"
    }
   },
   "outputs": [
    {
     "data": {
      "text/html": [
       "<div>\n",
       "<style scoped>\n",
       "    .dataframe tbody tr th:only-of-type {\n",
       "        vertical-align: middle;\n",
       "    }\n",
       "\n",
       "    .dataframe tbody tr th {\n",
       "        vertical-align: top;\n",
       "    }\n",
       "\n",
       "    .dataframe thead th {\n",
       "        text-align: right;\n",
       "    }\n",
       "</style>\n",
       "<table border=\"1\" class=\"dataframe\">\n",
       "  <thead>\n",
       "    <tr style=\"text-align: right;\">\n",
       "      <th></th>\n",
       "      <th>user_id</th>\n",
       "      <th>content_id</th>\n",
       "      <th>user_answer</th>\n",
       "      <th>answered_correctly</th>\n",
       "      <th>prior_question_elapsed_time</th>\n",
       "      <th>prior_question_had_explanation</th>\n",
       "      <th>question_id</th>\n",
       "      <th>q_correct</th>\n",
       "      <th>q_count</th>\n",
       "      <th>q_std</th>\n",
       "      <th>user_answer_mean</th>\n",
       "      <th>user_answer_count</th>\n",
       "      <th>user_min</th>\n",
       "      <th>user_max</th>\n",
       "      <th>user_std</th>\n",
       "    </tr>\n",
       "  </thead>\n",
       "  <tbody>\n",
       "    <tr>\n",
       "      <th>0</th>\n",
       "      <td>2285289</td>\n",
       "      <td>3606</td>\n",
       "      <td>3</td>\n",
       "      <td>1</td>\n",
       "      <td>NaN</td>\n",
       "      <td>NaN</td>\n",
       "      <td>3606</td>\n",
       "      <td>0.750000</td>\n",
       "      <td>32</td>\n",
       "      <td>0.439941</td>\n",
       "      <td>0.620690</td>\n",
       "      <td>29</td>\n",
       "      <td>0</td>\n",
       "      <td>1</td>\n",
       "      <td>0.493804</td>\n",
       "    </tr>\n",
       "    <tr>\n",
       "      <th>1</th>\n",
       "      <td>2285289</td>\n",
       "      <td>1069</td>\n",
       "      <td>3</td>\n",
       "      <td>1</td>\n",
       "      <td>9000.0</td>\n",
       "      <td>False</td>\n",
       "      <td>1069</td>\n",
       "      <td>0.817708</td>\n",
       "      <td>192</td>\n",
       "      <td>0.387094</td>\n",
       "      <td>0.620690</td>\n",
       "      <td>29</td>\n",
       "      <td>0</td>\n",
       "      <td>1</td>\n",
       "      <td>0.493804</td>\n",
       "    </tr>\n",
       "    <tr>\n",
       "      <th>2</th>\n",
       "      <td>2285289</td>\n",
       "      <td>5673</td>\n",
       "      <td>2</td>\n",
       "      <td>0</td>\n",
       "      <td>18000.0</td>\n",
       "      <td>False</td>\n",
       "      <td>5673</td>\n",
       "      <td>0.428571</td>\n",
       "      <td>462</td>\n",
       "      <td>0.495408</td>\n",
       "      <td>0.620690</td>\n",
       "      <td>29</td>\n",
       "      <td>0</td>\n",
       "      <td>1</td>\n",
       "      <td>0.493804</td>\n",
       "    </tr>\n",
       "    <tr>\n",
       "      <th>3</th>\n",
       "      <td>2285289</td>\n",
       "      <td>8918</td>\n",
       "      <td>1</td>\n",
       "      <td>0</td>\n",
       "      <td>13000.0</td>\n",
       "      <td>False</td>\n",
       "      <td>8918</td>\n",
       "      <td>0.433962</td>\n",
       "      <td>53</td>\n",
       "      <td>0.500363</td>\n",
       "      <td>0.620690</td>\n",
       "      <td>29</td>\n",
       "      <td>0</td>\n",
       "      <td>1</td>\n",
       "      <td>0.493804</td>\n",
       "    </tr>\n",
       "    <tr>\n",
       "      <th>4</th>\n",
       "      <td>2285289</td>\n",
       "      <td>5547</td>\n",
       "      <td>1</td>\n",
       "      <td>0</td>\n",
       "      <td>21000.0</td>\n",
       "      <td>False</td>\n",
       "      <td>5547</td>\n",
       "      <td>0.380952</td>\n",
       "      <td>42</td>\n",
       "      <td>0.491507</td>\n",
       "      <td>0.620690</td>\n",
       "      <td>29</td>\n",
       "      <td>0</td>\n",
       "      <td>1</td>\n",
       "      <td>0.493804</td>\n",
       "    </tr>\n",
       "    <tr>\n",
       "      <th>...</th>\n",
       "      <td>...</td>\n",
       "      <td>...</td>\n",
       "      <td>...</td>\n",
       "      <td>...</td>\n",
       "      <td>...</td>\n",
       "      <td>...</td>\n",
       "      <td>...</td>\n",
       "      <td>...</td>\n",
       "      <td>...</td>\n",
       "      <td>...</td>\n",
       "      <td>...</td>\n",
       "      <td>...</td>\n",
       "      <td>...</td>\n",
       "      <td>...</td>\n",
       "      <td>...</td>\n",
       "    </tr>\n",
       "    <tr>\n",
       "      <th>1017581</th>\n",
       "      <td>2147025654</td>\n",
       "      <td>13517</td>\n",
       "      <td>0</td>\n",
       "      <td>0</td>\n",
       "      <td>22000.0</td>\n",
       "      <td>True</td>\n",
       "      <td>13517</td>\n",
       "      <td>0.750000</td>\n",
       "      <td>8</td>\n",
       "      <td>0.462910</td>\n",
       "      <td>0.436364</td>\n",
       "      <td>55</td>\n",
       "      <td>0</td>\n",
       "      <td>1</td>\n",
       "      <td>0.500505</td>\n",
       "    </tr>\n",
       "    <tr>\n",
       "      <th>1017582</th>\n",
       "      <td>2147025654</td>\n",
       "      <td>754</td>\n",
       "      <td>3</td>\n",
       "      <td>0</td>\n",
       "      <td>11000.0</td>\n",
       "      <td>True</td>\n",
       "      <td>754</td>\n",
       "      <td>0.666667</td>\n",
       "      <td>156</td>\n",
       "      <td>0.472923</td>\n",
       "      <td>0.436364</td>\n",
       "      <td>55</td>\n",
       "      <td>0</td>\n",
       "      <td>1</td>\n",
       "      <td>0.500505</td>\n",
       "    </tr>\n",
       "    <tr>\n",
       "      <th>1017583</th>\n",
       "      <td>2147025654</td>\n",
       "      <td>846</td>\n",
       "      <td>0</td>\n",
       "      <td>0</td>\n",
       "      <td>14000.0</td>\n",
       "      <td>True</td>\n",
       "      <td>846</td>\n",
       "      <td>0.709677</td>\n",
       "      <td>124</td>\n",
       "      <td>0.455753</td>\n",
       "      <td>0.436364</td>\n",
       "      <td>55</td>\n",
       "      <td>0</td>\n",
       "      <td>1</td>\n",
       "      <td>0.500505</td>\n",
       "    </tr>\n",
       "    <tr>\n",
       "      <th>1017584</th>\n",
       "      <td>2147025654</td>\n",
       "      <td>1309</td>\n",
       "      <td>1</td>\n",
       "      <td>1</td>\n",
       "      <td>15000.0</td>\n",
       "      <td>True</td>\n",
       "      <td>1309</td>\n",
       "      <td>0.392308</td>\n",
       "      <td>260</td>\n",
       "      <td>0.489206</td>\n",
       "      <td>0.436364</td>\n",
       "      <td>55</td>\n",
       "      <td>0</td>\n",
       "      <td>1</td>\n",
       "      <td>0.500505</td>\n",
       "    </tr>\n",
       "    <tr>\n",
       "      <th>1017585</th>\n",
       "      <td>2147025654</td>\n",
       "      <td>12019</td>\n",
       "      <td>0</td>\n",
       "      <td>0</td>\n",
       "      <td>18000.0</td>\n",
       "      <td>True</td>\n",
       "      <td>12019</td>\n",
       "      <td>0.588235</td>\n",
       "      <td>17</td>\n",
       "      <td>0.507300</td>\n",
       "      <td>0.436364</td>\n",
       "      <td>55</td>\n",
       "      <td>0</td>\n",
       "      <td>1</td>\n",
       "      <td>0.500505</td>\n",
       "    </tr>\n",
       "  </tbody>\n",
       "</table>\n",
       "<p>1017586 rows × 15 columns</p>\n",
       "</div>"
      ],
      "text/plain": [
       "            user_id  content_id  user_answer  answered_correctly  \\\n",
       "0           2285289        3606            3                   1   \n",
       "1           2285289        1069            3                   1   \n",
       "2           2285289        5673            2                   0   \n",
       "3           2285289        8918            1                   0   \n",
       "4           2285289        5547            1                   0   \n",
       "...             ...         ...          ...                 ...   \n",
       "1017581  2147025654       13517            0                   0   \n",
       "1017582  2147025654         754            3                   0   \n",
       "1017583  2147025654         846            0                   0   \n",
       "1017584  2147025654        1309            1                   1   \n",
       "1017585  2147025654       12019            0                   0   \n",
       "\n",
       "         prior_question_elapsed_time prior_question_had_explanation  \\\n",
       "0                                NaN                            NaN   \n",
       "1                             9000.0                          False   \n",
       "2                            18000.0                          False   \n",
       "3                            13000.0                          False   \n",
       "4                            21000.0                          False   \n",
       "...                              ...                            ...   \n",
       "1017581                      22000.0                           True   \n",
       "1017582                      11000.0                           True   \n",
       "1017583                      14000.0                           True   \n",
       "1017584                      15000.0                           True   \n",
       "1017585                      18000.0                           True   \n",
       "\n",
       "         question_id  q_correct  q_count     q_std  user_answer_mean  \\\n",
       "0               3606   0.750000       32  0.439941          0.620690   \n",
       "1               1069   0.817708      192  0.387094          0.620690   \n",
       "2               5673   0.428571      462  0.495408          0.620690   \n",
       "3               8918   0.433962       53  0.500363          0.620690   \n",
       "4               5547   0.380952       42  0.491507          0.620690   \n",
       "...              ...        ...      ...       ...               ...   \n",
       "1017581        13517   0.750000        8  0.462910          0.436364   \n",
       "1017582          754   0.666667      156  0.472923          0.436364   \n",
       "1017583          846   0.709677      124  0.455753          0.436364   \n",
       "1017584         1309   0.392308      260  0.489206          0.436364   \n",
       "1017585        12019   0.588235       17  0.507300          0.436364   \n",
       "\n",
       "         user_answer_count  user_min  user_max  user_std  \n",
       "0                       29         0         1  0.493804  \n",
       "1                       29         0         1  0.493804  \n",
       "2                       29         0         1  0.493804  \n",
       "3                       29         0         1  0.493804  \n",
       "4                       29         0         1  0.493804  \n",
       "...                    ...       ...       ...       ...  \n",
       "1017581                 55         0         1  0.500505  \n",
       "1017582                 55         0         1  0.500505  \n",
       "1017583                 55         0         1  0.500505  \n",
       "1017584                 55         0         1  0.500505  \n",
       "1017585                 55         0         1  0.500505  \n",
       "\n",
       "[1017586 rows x 15 columns]"
      ]
     },
     "execution_count": 8,
     "metadata": {},
     "output_type": "execute_result"
    }
   ],
   "source": [
    "train"
   ]
  },
  {
   "cell_type": "code",
   "execution_count": 9,
   "metadata": {
    "ExecuteTime": {
     "end_time": "2020-12-17T22:23:29.507263Z",
     "start_time": "2020-12-17T22:23:29.163461Z"
    }
   },
   "outputs": [],
   "source": [
    "from sklearn.model_selection import train_test_split #Splitting data for model training\n",
    "from sklearn.metrics import roc_auc_score\n",
    "from sklearn.ensemble import RandomForestClassifier\n",
    "#NA Values of Prior Question had Explanation with False\n",
    "train['prior_question_had_explanation'].fillna(False, inplace=True)\n",
    "    \n",
    "#Prior Question Elapsed Time MVT\n",
    "train['prior_question_elapsed_time'].fillna(25302, inplace=True)\n",
    "X=train.loc[:,[ 'prior_question_elapsed_time',\n",
    "       'prior_question_had_explanation','question_id','q_correct','q_count','q_std' ,'user_answer_mean',\n",
    "    'user_answer_count', 'user_min', 'user_max', 'user_std']]#Selecting feature variables\n",
    "\n",
    "Y=train['answered_correctly'] #Selecting the output columns\n",
    "feature_list=X.columns"
   ]
  },
  {
   "cell_type": "code",
   "execution_count": 10,
   "metadata": {
    "ExecuteTime": {
     "end_time": "2020-12-17T22:23:29.810278Z",
     "start_time": "2020-12-17T22:23:29.569918Z"
    }
   },
   "outputs": [],
   "source": [
    "X_train,X_test,Y_train,Y_test=train_test_split(X, Y,test_size=0.3,random_state=1)"
   ]
  },
  {
   "cell_type": "code",
   "execution_count": 11,
   "metadata": {
    "ExecuteTime": {
     "end_time": "2020-12-17T22:23:29.940444Z",
     "start_time": "2020-12-17T22:23:29.914933Z"
    }
   },
   "outputs": [
    {
     "data": {
      "text/html": [
       "<div>\n",
       "<style scoped>\n",
       "    .dataframe tbody tr th:only-of-type {\n",
       "        vertical-align: middle;\n",
       "    }\n",
       "\n",
       "    .dataframe tbody tr th {\n",
       "        vertical-align: top;\n",
       "    }\n",
       "\n",
       "    .dataframe thead th {\n",
       "        text-align: right;\n",
       "    }\n",
       "</style>\n",
       "<table border=\"1\" class=\"dataframe\">\n",
       "  <thead>\n",
       "    <tr style=\"text-align: right;\">\n",
       "      <th></th>\n",
       "      <th>prior_question_elapsed_time</th>\n",
       "      <th>prior_question_had_explanation</th>\n",
       "      <th>question_id</th>\n",
       "      <th>q_correct</th>\n",
       "      <th>q_count</th>\n",
       "      <th>q_std</th>\n",
       "      <th>user_answer_mean</th>\n",
       "      <th>user_answer_count</th>\n",
       "      <th>user_min</th>\n",
       "      <th>user_max</th>\n",
       "      <th>user_std</th>\n",
       "    </tr>\n",
       "  </thead>\n",
       "  <tbody>\n",
       "    <tr>\n",
       "      <th>261320</th>\n",
       "      <td>51000.0</td>\n",
       "      <td>True</td>\n",
       "      <td>3925</td>\n",
       "      <td>0.666667</td>\n",
       "      <td>57</td>\n",
       "      <td>0.475595</td>\n",
       "      <td>0.684851</td>\n",
       "      <td>5921</td>\n",
       "      <td>0</td>\n",
       "      <td>1</td>\n",
       "      <td>0.464615</td>\n",
       "    </tr>\n",
       "    <tr>\n",
       "      <th>721998</th>\n",
       "      <td>22000.0</td>\n",
       "      <td>True</td>\n",
       "      <td>9538</td>\n",
       "      <td>0.826923</td>\n",
       "      <td>52</td>\n",
       "      <td>0.382005</td>\n",
       "      <td>0.782675</td>\n",
       "      <td>658</td>\n",
       "      <td>0</td>\n",
       "      <td>1</td>\n",
       "      <td>0.412739</td>\n",
       "    </tr>\n",
       "    <tr>\n",
       "      <th>164860</th>\n",
       "      <td>56000.0</td>\n",
       "      <td>True</td>\n",
       "      <td>6659</td>\n",
       "      <td>0.270968</td>\n",
       "      <td>310</td>\n",
       "      <td>0.445178</td>\n",
       "      <td>0.656911</td>\n",
       "      <td>615</td>\n",
       "      <td>0</td>\n",
       "      <td>1</td>\n",
       "      <td>0.475127</td>\n",
       "    </tr>\n",
       "    <tr>\n",
       "      <th>969913</th>\n",
       "      <td>2000.0</td>\n",
       "      <td>False</td>\n",
       "      <td>730</td>\n",
       "      <td>0.649123</td>\n",
       "      <td>171</td>\n",
       "      <td>0.478646</td>\n",
       "      <td>0.240260</td>\n",
       "      <td>154</td>\n",
       "      <td>0</td>\n",
       "      <td>1</td>\n",
       "      <td>0.428635</td>\n",
       "    </tr>\n",
       "    <tr>\n",
       "      <th>581322</th>\n",
       "      <td>33000.0</td>\n",
       "      <td>True</td>\n",
       "      <td>6264</td>\n",
       "      <td>0.334320</td>\n",
       "      <td>338</td>\n",
       "      <td>0.472451</td>\n",
       "      <td>0.641935</td>\n",
       "      <td>930</td>\n",
       "      <td>0</td>\n",
       "      <td>1</td>\n",
       "      <td>0.479689</td>\n",
       "    </tr>\n",
       "    <tr>\n",
       "      <th>...</th>\n",
       "      <td>...</td>\n",
       "      <td>...</td>\n",
       "      <td>...</td>\n",
       "      <td>...</td>\n",
       "      <td>...</td>\n",
       "      <td>...</td>\n",
       "      <td>...</td>\n",
       "      <td>...</td>\n",
       "      <td>...</td>\n",
       "      <td>...</td>\n",
       "      <td>...</td>\n",
       "    </tr>\n",
       "    <tr>\n",
       "      <th>491263</th>\n",
       "      <td>20000.0</td>\n",
       "      <td>True</td>\n",
       "      <td>10608</td>\n",
       "      <td>1.000000</td>\n",
       "      <td>51</td>\n",
       "      <td>0.000000</td>\n",
       "      <td>0.661290</td>\n",
       "      <td>62</td>\n",
       "      <td>0</td>\n",
       "      <td>1</td>\n",
       "      <td>0.477134</td>\n",
       "    </tr>\n",
       "    <tr>\n",
       "      <th>791624</th>\n",
       "      <td>42000.0</td>\n",
       "      <td>True</td>\n",
       "      <td>3650</td>\n",
       "      <td>0.456140</td>\n",
       "      <td>57</td>\n",
       "      <td>0.502500</td>\n",
       "      <td>0.367021</td>\n",
       "      <td>752</td>\n",
       "      <td>0</td>\n",
       "      <td>1</td>\n",
       "      <td>0.482313</td>\n",
       "    </tr>\n",
       "    <tr>\n",
       "      <th>470924</th>\n",
       "      <td>18000.0</td>\n",
       "      <td>True</td>\n",
       "      <td>1224</td>\n",
       "      <td>0.807971</td>\n",
       "      <td>276</td>\n",
       "      <td>0.394611</td>\n",
       "      <td>0.619718</td>\n",
       "      <td>142</td>\n",
       "      <td>0</td>\n",
       "      <td>1</td>\n",
       "      <td>0.487174</td>\n",
       "    </tr>\n",
       "    <tr>\n",
       "      <th>491755</th>\n",
       "      <td>6000.0</td>\n",
       "      <td>False</td>\n",
       "      <td>5213</td>\n",
       "      <td>0.602941</td>\n",
       "      <td>408</td>\n",
       "      <td>0.489889</td>\n",
       "      <td>0.885714</td>\n",
       "      <td>70</td>\n",
       "      <td>0</td>\n",
       "      <td>1</td>\n",
       "      <td>0.320455</td>\n",
       "    </tr>\n",
       "    <tr>\n",
       "      <th>128037</th>\n",
       "      <td>19000.0</td>\n",
       "      <td>True</td>\n",
       "      <td>13368</td>\n",
       "      <td>0.875000</td>\n",
       "      <td>16</td>\n",
       "      <td>0.341565</td>\n",
       "      <td>0.710602</td>\n",
       "      <td>349</td>\n",
       "      <td>0</td>\n",
       "      <td>1</td>\n",
       "      <td>0.454134</td>\n",
       "    </tr>\n",
       "  </tbody>\n",
       "</table>\n",
       "<p>712310 rows × 11 columns</p>\n",
       "</div>"
      ],
      "text/plain": [
       "        prior_question_elapsed_time  prior_question_had_explanation  \\\n",
       "261320                      51000.0                            True   \n",
       "721998                      22000.0                            True   \n",
       "164860                      56000.0                            True   \n",
       "969913                       2000.0                           False   \n",
       "581322                      33000.0                            True   \n",
       "...                             ...                             ...   \n",
       "491263                      20000.0                            True   \n",
       "791624                      42000.0                            True   \n",
       "470924                      18000.0                            True   \n",
       "491755                       6000.0                           False   \n",
       "128037                      19000.0                            True   \n",
       "\n",
       "        question_id  q_correct  q_count     q_std  user_answer_mean  \\\n",
       "261320         3925   0.666667       57  0.475595          0.684851   \n",
       "721998         9538   0.826923       52  0.382005          0.782675   \n",
       "164860         6659   0.270968      310  0.445178          0.656911   \n",
       "969913          730   0.649123      171  0.478646          0.240260   \n",
       "581322         6264   0.334320      338  0.472451          0.641935   \n",
       "...             ...        ...      ...       ...               ...   \n",
       "491263        10608   1.000000       51  0.000000          0.661290   \n",
       "791624         3650   0.456140       57  0.502500          0.367021   \n",
       "470924         1224   0.807971      276  0.394611          0.619718   \n",
       "491755         5213   0.602941      408  0.489889          0.885714   \n",
       "128037        13368   0.875000       16  0.341565          0.710602   \n",
       "\n",
       "        user_answer_count  user_min  user_max  user_std  \n",
       "261320               5921         0         1  0.464615  \n",
       "721998                658         0         1  0.412739  \n",
       "164860                615         0         1  0.475127  \n",
       "969913                154         0         1  0.428635  \n",
       "581322                930         0         1  0.479689  \n",
       "...                   ...       ...       ...       ...  \n",
       "491263                 62         0         1  0.477134  \n",
       "791624                752         0         1  0.482313  \n",
       "470924                142         0         1  0.487174  \n",
       "491755                 70         0         1  0.320455  \n",
       "128037                349         0         1  0.454134  \n",
       "\n",
       "[712310 rows x 11 columns]"
      ]
     },
     "execution_count": 11,
     "metadata": {},
     "output_type": "execute_result"
    }
   ],
   "source": [
    "X_train"
   ]
  },
  {
   "cell_type": "code",
   "execution_count": 12,
   "metadata": {
    "ExecuteTime": {
     "end_time": "2020-12-17T22:23:30.048168Z",
     "start_time": "2020-12-17T22:23:30.042657Z"
    }
   },
   "outputs": [
    {
     "data": {
      "text/plain": [
       "261320    1\n",
       "721998    1\n",
       "164860    1\n",
       "969913    0\n",
       "581322    1\n",
       "         ..\n",
       "491263    1\n",
       "791624    0\n",
       "470924    1\n",
       "491755    1\n",
       "128037    1\n",
       "Name: answered_correctly, Length: 712310, dtype: int64"
      ]
     },
     "execution_count": 12,
     "metadata": {},
     "output_type": "execute_result"
    }
   ],
   "source": [
    "Y_train"
   ]
  },
  {
   "cell_type": "markdown",
   "metadata": {},
   "source": [
    "# Logistic Regression \n"
   ]
  },
  {
   "cell_type": "markdown",
   "metadata": {
    "ExecuteTime": {
     "end_time": "2020-12-17T22:49:13.967516Z",
     "start_time": "2020-12-17T22:49:13.964582Z"
    }
   },
   "source": [
    "## Logistic model with L2 norm and sag  solver"
   ]
  },
  {
   "cell_type": "code",
   "execution_count": 23,
   "metadata": {
    "ExecuteTime": {
     "end_time": "2020-12-17T22:32:28.525543Z",
     "start_time": "2020-12-17T22:31:40.617757Z"
    }
   },
   "outputs": [
    {
     "name": "stderr",
     "output_type": "stream",
     "text": [
      "/Users/jiachenliu/opt/anaconda3/lib/python3.7/site-packages/sklearn/linear_model/_sag.py:330: ConvergenceWarning: The max_iter was reached which means the coef_ did not converge\n",
      "  \"the coef_ did not converge\", ConvergenceWarning)\n"
     ]
    },
    {
     "data": {
      "text/plain": [
       "LogisticRegression(solver='sag')"
      ]
     },
     "execution_count": 23,
     "metadata": {},
     "output_type": "execute_result"
    }
   ],
   "source": [
    "param = {\n",
    " 'C': 1.0,\n",
    " 'class_weight': None,\n",
    " 'dual': False,\n",
    " 'fit_intercept': True,\n",
    " 'intercept_scaling': 1,\n",
    " 'l1_ratio': None,\n",
    " 'max_iter': 100,\n",
    " 'multi_class': 'auto',\n",
    " 'n_jobs': None,\n",
    " 'penalty': 'l1',\n",
    " 'random_state': None,\n",
    " 'solver': 'liblinear',\n",
    " 'tol': 0.0001,\n",
    " 'verbose': 0,\n",
    " 'warm_start': False\n",
    "}\n",
    "\n",
    "from sklearn.feature_selection import RFE\n",
    "\n",
    "\n",
    "clf1 = LogisticRegression(solver = 'sag',C = 1.0, penalty = 'l2', max_iter = 100)\n",
    "\n",
    "clf1.fit(X_train,Y_train)\n"
   ]
  },
  {
   "cell_type": "markdown",
   "metadata": {
    "ExecuteTime": {
     "end_time": "2020-12-17T22:49:05.895715Z",
     "start_time": "2020-12-17T22:49:05.892534Z"
    }
   },
   "source": [
    "### accurancy score"
   ]
  },
  {
   "cell_type": "code",
   "execution_count": 24,
   "metadata": {
    "ExecuteTime": {
     "end_time": "2020-12-17T22:32:28.916499Z",
     "start_time": "2020-12-17T22:32:28.624754Z"
    }
   },
   "outputs": [
    {
     "data": {
      "text/plain": [
       "0.6566942701031198"
      ]
     },
     "execution_count": 24,
     "metadata": {},
     "output_type": "execute_result"
    }
   ],
   "source": [
    "clf1.score(X_test,Y_test)"
   ]
  },
  {
   "cell_type": "markdown",
   "metadata": {
    "ExecuteTime": {
     "end_time": "2020-12-17T22:50:39.720152Z",
     "start_time": "2020-12-17T22:50:39.717380Z"
    }
   },
   "source": [
    "### ROC score"
   ]
  },
  {
   "cell_type": "code",
   "execution_count": 25,
   "metadata": {
    "ExecuteTime": {
     "end_time": "2020-12-17T22:32:29.631892Z",
     "start_time": "2020-12-17T22:32:29.009283Z"
    }
   },
   "outputs": [
    {
     "name": "stdout",
     "output_type": "stream",
     "text": [
      "ROC : 0.52794\n"
     ]
    }
   ],
   "source": [
    "y_pred = clf1.predict(X_test) #prelim\n",
    "Y_test=np.asarray(Y_test)\n",
    "y_score = clf1.predict_proba(X_test)\n",
    "roc_prelim=roc_auc_score(np.asarray(Y_test), y_pred)\n",
    "roc=roc_auc_score(np.asarray(Y_test), y_score[:, 1])\n",
    "print(\"ROC : {:.5}\".format(roc))"
   ]
  },
  {
   "cell_type": "markdown",
   "metadata": {},
   "source": [
    "## Logistic model with L1 norm and sag  solver"
   ]
  },
  {
   "cell_type": "code",
   "execution_count": 26,
   "metadata": {
    "ExecuteTime": {
     "end_time": "2020-12-17T22:33:18.760620Z",
     "start_time": "2020-12-17T22:32:29.721534Z"
    }
   },
   "outputs": [
    {
     "data": {
      "text/plain": [
       "LogisticRegression(penalty='l1', solver='liblinear')"
      ]
     },
     "execution_count": 26,
     "metadata": {},
     "output_type": "execute_result"
    }
   ],
   "source": [
    "clf = LogisticRegression(solver = 'liblinear',C = 1.0, penalty = 'l1', max_iter = 100)\n",
    "\n",
    "clf.fit(X_train,Y_train)"
   ]
  },
  {
   "cell_type": "markdown",
   "metadata": {},
   "source": [
    "### accurancy score"
   ]
  },
  {
   "cell_type": "code",
   "execution_count": 30,
   "metadata": {
    "ExecuteTime": {
     "end_time": "2020-12-17T22:35:39.828507Z",
     "start_time": "2020-12-17T22:35:39.499464Z"
    }
   },
   "outputs": [
    {
     "data": {
      "text/plain": [
       "0.7166138183152295"
      ]
     },
     "execution_count": 30,
     "metadata": {},
     "output_type": "execute_result"
    }
   ],
   "source": [
    "clf.score(X_test,Y_test)"
   ]
  },
  {
   "cell_type": "markdown",
   "metadata": {},
   "source": [
    "### Roc Score"
   ]
  },
  {
   "cell_type": "code",
   "execution_count": 32,
   "metadata": {
    "ExecuteTime": {
     "end_time": "2020-12-17T22:39:09.477833Z",
     "start_time": "2020-12-17T22:39:08.439604Z"
    }
   },
   "outputs": [
    {
     "name": "stdout",
     "output_type": "stream",
     "text": [
      "ROC : 0.7569033131437051\n"
     ]
    }
   ],
   "source": [
    "clf.score(X_test,Y_test)\n",
    "y_pred = clf.predict(X_test) \n",
    "Y_test=np.asarray(Y_test)\n",
    "y_score = clf.predict_proba(X_test)\n",
    "roc_prelim=roc_auc_score(np.asarray(Y_test), y_pred)\n",
    "roc=roc_auc_score(np.asarray(Y_test), y_score[:, 1])\n",
    "print(\"ROC :\",roc)"
   ]
  },
  {
   "cell_type": "markdown",
   "metadata": {
    "ExecuteTime": {
     "end_time": "2020-12-17T22:53:23.667405Z",
     "start_time": "2020-12-17T22:53:23.664665Z"
    }
   },
   "source": [
    "### Tunning by 10 fold cross validation"
   ]
  },
  {
   "cell_type": "code",
   "execution_count": 44,
   "metadata": {
    "ExecuteTime": {
     "end_time": "2020-12-17T23:00:10.245188Z",
     "start_time": "2020-12-17T22:54:36.990592Z"
    }
   },
   "outputs": [
    {
     "name": "stdout",
     "output_type": "stream",
     "text": [
      "classification score for training data:  0.718719377798992\n",
      "classification score for test data:  0.7166137918882889\n"
     ]
    }
   ],
   "source": [
    "from sklearn.model_selection import cross_val_score\n",
    "print('classification score for training data: ',np.mean(cross_val_score(clf, X_train, Y_train, cv=10)))\n",
    "print('classification score for test data: ',np.mean(cross_val_score(clf, X_test, Y_test, cv=10)))"
   ]
  },
  {
   "cell_type": "markdown",
   "metadata": {},
   "source": [
    "### Model Evaluation "
   ]
  },
  {
   "cell_type": "code",
   "execution_count": 39,
   "metadata": {
    "ExecuteTime": {
     "end_time": "2020-12-17T22:49:05.746653Z",
     "start_time": "2020-12-17T22:49:04.313680Z"
    },
    "scrolled": false
   },
   "outputs": [
    {
     "data": {
      "image/png": "[encoded data removed]",
      "text/plain": [
       "<Figure size 432x288 with 1 Axes>"
      ]
     },
     "metadata": {
      "needs_background": "light"
     },
     "output_type": "display_data"
    },
    {
     "name": "stdout",
     "output_type": "stream",
     "text": [
      "\n",
      "Classification Report\n",
      "\n",
      "              precision    recall  f1-score   support\n",
      "\n",
      "           0       0.64      0.43      0.52    106727\n",
      "           1       0.74      0.87      0.80    198549\n",
      "\n",
      "    accuracy                           0.72    305276\n",
      "   macro avg       0.69      0.65      0.66    305276\n",
      "weighted avg       0.71      0.72      0.70    305276\n",
      "\n",
      "\n",
      "Confusion Matrix\n",
      "\n",
      "[[ 46408  60319]\n",
      " [ 26192 172357]]\n"
     ]
    },
    {
     "data": {
      "image/png": "[encoded data removed]",
      "text/plain": [
       "<Figure size 360x360 with 2 Axes>"
      ]
     },
     "metadata": {
      "needs_background": "light"
     },
     "output_type": "display_data"
    }
   ],
   "source": [
    "from sklearn.metrics import confusion_matrix\n",
    "from sklearn.metrics import roc_auc_score\n",
    "from sklearn import metrics\n",
    "import matplotlib.pyplot as plt\n",
    "from sklearn.preprocessing import label_binarize\n",
    "from sklearn.metrics import roc_curve, auc\n",
    "from sklearn.multiclass import OneVsRestClassifier\n",
    "from itertools import cycle\n",
    "from sklearn.metrics import confusion_matrix\n",
    "\n",
    "fpr, tpr, _ = roc_curve(Y_test, y_score[:, 1])\n",
    "\n",
    "# plot the roc curve for the model\n",
    "plt.plot(fpr, tpr, linestyle='--', label='ROC curve of RFC (area = {0:0.2f})'\n",
    "             ''.format(roc))\n",
    "\n",
    "# axis labels\n",
    "plt.xlabel('False Positive Rate')\n",
    "plt.ylabel('True Positive Rate')\n",
    "\n",
    "plt.legend()\n",
    "plt.title('ROC curve for Logistic model')\n",
    "plt.show()\n",
    "\n",
    "from sklearn.metrics import classification_report\n",
    "print('\\nClassification Report\\n')\n",
    "print(classification_report(Y_test, y_pred))\n",
    "\n",
    "# build the confusion matrix\n",
    "cnf_matrix = confusion_matrix(Y_test, y_pred)\n",
    "print('\\nConfusion Matrix\\n')\n",
    "print(cnf_matrix)\n",
    "\n",
    "# plot resulting confusion matrix figure\n",
    "fig, ax = plt.subplots(figsize=(5,5))\n",
    "heatmap=sns.heatmap(cnf_matrix, linewidths=1,annot=True, fmt='',cmap='Blues')\n",
    "heatmap.yaxis.set_ticklabels(heatmap.yaxis.get_ticklabels(), rotation=45,  fontsize=12)\n",
    "heatmap.xaxis.set_ticklabels(heatmap.xaxis.get_ticklabels(), rotation=0, fontsize=12)\n",
    "plt.ylabel('True label')\n",
    "plt.xlabel('Predicted label')\n",
    "plt.title('Confusion Matrix - Logisitc')\n",
    "bottom, top = ax.get_ylim()\n",
    "ax.set_ylim(bottom + 0.5, top - 0.5)\n",
    "plt.show()"
   ]
  },
  {
   "cell_type": "code",
   "execution_count": null,
   "metadata": {},
   "outputs": [],
   "source": []
  }
 ],
 "metadata": {
  "kernelspec": {
   "display_name": "Python 3",
   "language": "python",
   "name": "python3"
  },
  "language_info": {
   "codemirror_mode": {
    "name": "ipython",
    "version": 3
   },
   "file_extension": ".py",
   "mimetype": "text/x-python",
   "name": "python",
   "nbconvert_exporter": "python",
   "pygments_lexer": "ipython3",
   "version": "3.7.6"
  },
  "toc": {
   "base_numbering": 1,
   "nav_menu": {},
   "number_sections": true,
   "sideBar": true,
   "skip_h1_title": false,
   "title_cell": "Table of Contents",
   "title_sidebar": "Contents",
   "toc_cell": false,
   "toc_position": {},
   "toc_section_display": true,
   "toc_window_display": false
  },
  "varInspector": {
   "cols": {
    "lenName": 16,
    "lenType": 16,
    "lenVar": 40
   },
   "kernels_config": {
    "python": {
     "delete_cmd_postfix": "",
     "delete_cmd_prefix": "del ",
     "library": "var_list.py",
     "varRefreshCmd": "print(var_dic_list())"
    },
    "r": {
     "delete_cmd_postfix": ") ",
     "delete_cmd_prefix": "rm(",
     "library": "var_list.r",
     "varRefreshCmd": "cat(var_dic_list()) "
    }
   },
   "types_to_exclude": [
    "module",
    "function",
    "builtin_function_or_method",
    "instance",
    "_Feature"
   ],
   "window_display": false
  }
 },
 "nbformat": 4,
 "nbformat_minor": 4
}
